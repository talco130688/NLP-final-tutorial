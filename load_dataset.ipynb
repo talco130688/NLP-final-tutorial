{
 "cells": [
  {
   "cell_type": "code",
   "execution_count": 1,
   "id": "1c0a887f",
   "metadata": {},
   "outputs": [],
   "source": [
    "import pandas as pd\n",
    "import numpy  as np\n",
    "\n",
    "import json\n",
    "import os\n",
    "\n",
    "from tqdm import tqdm"
   ]
  },
  {
   "cell_type": "markdown",
   "id": "1d16fb4b",
   "metadata": {},
   "source": [
    "### Loading lists of first and last arabic names"
   ]
  },
  {
   "cell_type": "code",
   "execution_count": 2,
   "id": "2f1581c7",
   "metadata": {},
   "outputs": [
    {
     "data": {
      "text/plain": [
       "(24224, 3069)"
      ]
     },
     "execution_count": 2,
     "metadata": {},
     "output_type": "execute_result"
    }
   ],
   "source": [
    "lFirstName,lLastName = np.load('list_names.npy', allow_pickle=True)\n",
    "len(lFirstName), len(lLastName)"
   ]
  },
  {
   "cell_type": "markdown",
   "id": "53f11a88",
   "metadata": {},
   "source": [
    "### Loading files to DF"
   ]
  },
  {
   "cell_type": "code",
   "execution_count": null,
   "id": "a4f91957",
   "metadata": {},
   "outputs": [
    {
     "name": "stderr",
     "output_type": "stream",
     "text": [
      " 75%|███████████████████████████████████████████████████████████▉                    | 727/971 [06:49<01:45,  2.32it/s]"
     ]
    }
   ],
   "source": [
    "data        = []\n",
    "iSentence   = 0\n",
    "dfData      = pd.DataFrame()\n",
    "folder_path =  'ar/' #'he/'\n",
    "\n",
    "for (root,dirs,files) in os.walk(folder_path, topdown=True):\n",
    "    files.sort()\n",
    "    for file in tqdm(files):\n",
    "        file_name = os.path.join(root, file)\n",
    "        with open(file_name, encoding=\"utf8\") as f:\n",
    "            lWords = []\n",
    "            lLabel = []\n",
    "            for line in f:\n",
    "                lLine  = line.split()\n",
    "                if len(lLine) != 0:\n",
    "                    lWords.append(lLine[0])\n",
    "                    lLabel.append(lLine[1])\n",
    "                else:\n",
    "                    iSentence += 1\n",
    "                    dfSentence           = pd.DataFrame(lWords, columns=['sentence'])\n",
    "                    dfSentence['label' ] = pd.Series(lLabel)\n",
    "                    dfSentence['senIdx'] = iSentence\n",
    "                    dfData = dfData.append(dfSentence)\n",
    "                    lWords     = []\n",
    "                    lLabel     = []\n",
    "dfData"
   ]
  },
  {
   "cell_type": "code",
   "execution_count": null,
   "id": "027119d8",
   "metadata": {},
   "outputs": [],
   "source": [
    "dfData.to_pickle('dfArData.pkl')"
   ]
  }
 ],
 "metadata": {
  "kernelspec": {
   "display_name": "Python 3",
   "language": "python",
   "name": "python3"
  },
  "language_info": {
   "codemirror_mode": {
    "name": "ipython",
    "version": 3
   },
   "file_extension": ".py",
   "mimetype": "text/x-python",
   "name": "python",
   "nbconvert_exporter": "python",
   "pygments_lexer": "ipython3",
   "version": "3.8.8"
  }
 },
 "nbformat": 4,
 "nbformat_minor": 5
}
