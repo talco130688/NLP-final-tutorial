{
 "cells": [
  {
   "cell_type": "code",
   "execution_count": 1,
   "id": "1c0a887f",
   "metadata": {},
   "outputs": [],
   "source": [
    "import pandas as pd\n",
    "import numpy  as np\n",
    "\n",
    "import json\n",
    "import os\n",
    "\n",
    "from tqdm import tqdm"
   ]
  },
  {
   "cell_type": "markdown",
   "id": "dcfba7d8",
   "metadata": {},
   "source": [
    "### Loading lists of first and last arabic names"
   ]
  },
  {
   "cell_type": "code",
   "execution_count": 2,
   "id": "2f1581c7",
   "metadata": {},
   "outputs": [
    {
     "data": {
      "text/plain": [
       "(24224, 3069)"
      ]
     },
     "execution_count": 2,
     "metadata": {},
     "output_type": "execute_result"
    }
   ],
   "source": [
    "lFirstName,lLastName = np.load('list_names.npy', allow_pickle=True)\n",
    "len(lFirstName), len(lLastName)"
   ]
  },
  {
   "cell_type": "markdown",
   "id": "53f11a88",
   "metadata": {},
   "source": [
    "### Loading dataset JSONL files to DF"
   ]
  },
  {
   "cell_type": "code",
   "execution_count": 3,
   "id": "a4f91957",
   "metadata": {},
   "outputs": [],
   "source": [
    "if False:\n",
    "    data        = []\n",
    "    iSentence   = 0\n",
    "    dfData      = pd.DataFrame()\n",
    "    folder_path =  'ar/' #'he/'\n",
    "\n",
    "    for (root,dirs,files) in os.walk(folder_path, topdown=True):\n",
    "        files.sort()\n",
    "        for file in tqdm(files):\n",
    "            file_name = os.path.join(root, file)\n",
    "            with open(file_name, encoding=\"utf8\") as f:\n",
    "                lWords = []\n",
    "                lLabel = []\n",
    "                for line in f:\n",
    "                    lLine  = line.split()\n",
    "                    if len(lLine) != 0:\n",
    "                        lWords.append(lLine[0])\n",
    "                        lLabel.append(lLine[1])\n",
    "                    else:\n",
    "                        iSentence += 1\n",
    "                        dfSentence           = pd.DataFrame(lWords, columns=['sentence'])\n",
    "                        dfSentence['label' ] = pd.Series(lLabel)\n",
    "                        dfSentence['senIdx'] = iSentence\n",
    "                        dfData = dfData.append(dfSentence)\n",
    "                        lWords     = []\n",
    "                        lLabel     = []\n",
    "    dfData.to_pickle('dfArData.pkl') #'dfHeData.pkl' for hebrew, 'dfArData.pkl' for arabic                    \n",
    "    dfData"
   ]
  },
  {
   "cell_type": "markdown",
   "id": "f4dbaca1",
   "metadata": {},
   "source": [
    "### Loading DF of NER labeled sentences"
   ]
  },
  {
   "cell_type": "code",
   "execution_count": 5,
   "id": "027119d8",
   "metadata": {},
   "outputs": [
    {
     "data": {
      "text/html": [
       "<div>\n",
       "<style scoped>\n",
       "    .dataframe tbody tr th:only-of-type {\n",
       "        vertical-align: middle;\n",
       "    }\n",
       "\n",
       "    .dataframe tbody tr th {\n",
       "        vertical-align: top;\n",
       "    }\n",
       "\n",
       "    .dataframe thead th {\n",
       "        text-align: right;\n",
       "    }\n",
       "</style>\n",
       "<table border=\"1\" class=\"dataframe\">\n",
       "  <thead>\n",
       "    <tr style=\"text-align: right;\">\n",
       "      <th></th>\n",
       "      <th>sentence</th>\n",
       "      <th>label</th>\n",
       "      <th>senIdx</th>\n",
       "    </tr>\n",
       "  </thead>\n",
       "  <tbody>\n",
       "    <tr>\n",
       "      <th>0</th>\n",
       "      <td>\"</td>\n",
       "      <td>O</td>\n",
       "      <td>1</td>\n",
       "    </tr>\n",
       "    <tr>\n",
       "      <th>1</th>\n",
       "      <td>نحن</td>\n",
       "      <td>O</td>\n",
       "      <td>1</td>\n",
       "    </tr>\n",
       "    <tr>\n",
       "      <th>2</th>\n",
       "      <td>نشرح</td>\n",
       "      <td>O</td>\n",
       "      <td>1</td>\n",
       "    </tr>\n",
       "  </tbody>\n",
       "</table>\n",
       "</div>"
      ],
      "text/plain": [
       "  sentence label  senIdx\n",
       "0        \"     O       1\n",
       "1      نحن     O       1\n",
       "2     نشرح     O       1"
      ]
     },
     "execution_count": 5,
     "metadata": {},
     "output_type": "execute_result"
    }
   ],
   "source": [
    "dfData = pd.read_pickle('dfArData.pkl')\n",
    "dfData.head(3)"
   ]
  },
  {
   "cell_type": "markdown",
   "id": "7cc62ff7",
   "metadata": {},
   "source": [
    "### Buileding a NER dataset only for names"
   ]
  },
  {
   "cell_type": "code",
   "execution_count": 6,
   "id": "f8c8301e",
   "metadata": {},
   "outputs": [
    {
     "data": {
      "text/plain": [
       "30778"
      ]
     },
     "execution_count": 6,
     "metadata": {},
     "output_type": "execute_result"
    }
   ],
   "source": [
    "lSentences = dfData.senIdx.unique().tolist()\n",
    "len(lSentences)   "
   ]
  },
  {
   "cell_type": "code",
   "execution_count": 7,
   "id": "0993ffaf",
   "metadata": {},
   "outputs": [],
   "source": [
    "if False:    \n",
    "    dfPersonSentences = pd.DataFrame()\n",
    "\n",
    "    for i in tqdm(lSentences):\n",
    "        df                = pd.DataFrame()\n",
    "        dfSen            = dfData[dfData.senIdx==i]\n",
    "        lSentenceLabeles = dfSen.label.unique().tolist()\n",
    "        # check if there are person entities in the sentence\n",
    "        if any(\"PER\" in s for s in lSentenceLabeles):\n",
    "            sentence = dfSen.sentence.tolist()\n",
    "            label    = dfSen.label.tolist()\n",
    "            new_row  = {\n",
    "                        'senIdx'   : int(i),\n",
    "                        'sentence' : sentence,\n",
    "                        'label'    : label,\n",
    "                        'sper'     : 1 if 'S-PER' in label else 0,\n",
    "                        'bper'     : 1 if 'B-PER' in label else 0,\n",
    "                        'iper'     : 1 if 'I-PER' in label else 0,\n",
    "                        'eper'     : 1 if 'E-PER' in label else 0\n",
    "            }\n",
    "            df       = df.append(new_row, ignore_index=True) \n",
    "            dfPersonSentences = dfPersonSentences.append(df)\n",
    "        else: \n",
    "            pass\n",
    "    dfPersonSentences.to_pickle('dfArPerSen.pkl') #'dfHePerSen.pkl' for hebrew, 'dfArPerSen.pkl' for arabic\n",
    "    dfPersonSentences"
   ]
  },
  {
   "cell_type": "code",
   "execution_count": 16,
   "id": "e3f2dec7",
   "metadata": {},
   "outputs": [
    {
     "data": {
      "text/html": [
       "<div>\n",
       "<style scoped>\n",
       "    .dataframe tbody tr th:only-of-type {\n",
       "        vertical-align: middle;\n",
       "    }\n",
       "\n",
       "    .dataframe tbody tr th {\n",
       "        vertical-align: top;\n",
       "    }\n",
       "\n",
       "    .dataframe thead th {\n",
       "        text-align: right;\n",
       "    }\n",
       "</style>\n",
       "<table border=\"1\" class=\"dataframe\">\n",
       "  <thead>\n",
       "    <tr style=\"text-align: right;\">\n",
       "      <th></th>\n",
       "      <th>senIdx</th>\n",
       "      <th>sentence</th>\n",
       "      <th>sper</th>\n",
       "      <th>bper</th>\n",
       "      <th>iper</th>\n",
       "      <th>eper</th>\n",
       "      <th>label</th>\n",
       "    </tr>\n",
       "  </thead>\n",
       "  <tbody>\n",
       "    <tr>\n",
       "      <th>0</th>\n",
       "      <td>5.0</td>\n",
       "      <td>[رئيس, ال, مجلس،, عباس, أبو, عواد،, متفائلا, :...</td>\n",
       "      <td>0.0</td>\n",
       "      <td>1.0</td>\n",
       "      <td>1.0</td>\n",
       "      <td>1.0</td>\n",
       "      <td>[B-TTL, I-TTL, E-TTL, B-PER, I-PER, E-PER, O, ...</td>\n",
       "    </tr>\n",
       "    <tr>\n",
       "      <th>1</th>\n",
       "      <td>6.0</td>\n",
       "      <td>[يقف, عباس, ابو, عواد, ،, رئيس, ال, مجلس, ال, ...</td>\n",
       "      <td>0.0</td>\n",
       "      <td>1.0</td>\n",
       "      <td>1.0</td>\n",
       "      <td>1.0</td>\n",
       "      <td>[O, B-PER, I-PER, E-PER, O, B-TTL, I-TTL|B-ORG...</td>\n",
       "    </tr>\n",
       "    <tr>\n",
       "      <th>2</th>\n",
       "      <td>8.0</td>\n",
       "      <td>[و, بشر, عواد, ال, عائلة, أن, ه, ب, الاضافة, ا...</td>\n",
       "      <td>1.0</td>\n",
       "      <td>0.0</td>\n",
       "      <td>0.0</td>\n",
       "      <td>0.0</td>\n",
       "      <td>[O, O, S-PER, O, O, O, O, O, O, O, O, O, O, O,...</td>\n",
       "    </tr>\n",
       "  </tbody>\n",
       "</table>\n",
       "</div>"
      ],
      "text/plain": [
       "   senIdx                                           sentence  sper  bper  \\\n",
       "0     5.0  [رئيس, ال, مجلس،, عباس, أبو, عواد،, متفائلا, :...   0.0   1.0   \n",
       "1     6.0  [يقف, عباس, ابو, عواد, ،, رئيس, ال, مجلس, ال, ...   0.0   1.0   \n",
       "2     8.0  [و, بشر, عواد, ال, عائلة, أن, ه, ب, الاضافة, ا...   1.0   0.0   \n",
       "\n",
       "   iper  eper                                              label  \n",
       "0   1.0   1.0  [B-TTL, I-TTL, E-TTL, B-PER, I-PER, E-PER, O, ...  \n",
       "1   1.0   1.0  [O, B-PER, I-PER, E-PER, O, B-TTL, I-TTL|B-ORG...  \n",
       "2   0.0   0.0  [O, O, S-PER, O, O, O, O, O, O, O, O, O, O, O,...  "
      ]
     },
     "execution_count": 16,
     "metadata": {},
     "output_type": "execute_result"
    }
   ],
   "source": [
    "lColumns          = [  'senIdx', 'sentence', 'sper', 'bper', 'iper', 'eper',  'label']\n",
    "dfPersonSentences = pd.read_pickle('dfArPerSen.pkl')\n",
    "dfPersonSentences = dfPersonSentences[lColumns].reset_index(drop=True)\n",
    "dfPersonSentences.head(3)"
   ]
  },
  {
   "cell_type": "code",
   "execution_count": 14,
   "id": "6fef482b",
   "metadata": {},
   "outputs": [
    {
     "data": {
      "text/plain": [
       "sper    0.340090\n",
       "bper    0.612941\n",
       "iper    0.203859\n",
       "eper    0.613915\n",
       "Name: mean, dtype: float64"
      ]
     },
     "execution_count": 14,
     "metadata": {},
     "output_type": "execute_result"
    }
   ],
   "source": [
    "dfPersonSentences[['sper','bper','iper','eper']].describe().iloc[1]"
   ]
  },
  {
   "cell_type": "code",
   "execution_count": 54,
   "id": "ec3b889b",
   "metadata": {},
   "outputs": [
    {
     "data": {
      "text/plain": [
       "(21719, 564)"
      ]
     },
     "execution_count": 54,
     "metadata": {},
     "output_type": "execute_result"
    }
   ],
   "source": [
    "lUpdFirstName = [x for x in lFirstName if x not in lLastName ]\n",
    "lUpdLastName  = [x for x in lLastName  if x not in lFirstName]\n",
    "len(lUpdFirstName), len(lUpdLastName)"
   ]
  },
  {
   "cell_type": "code",
   "execution_count": 67,
   "id": "a619657d",
   "metadata": {},
   "outputs": [
    {
     "data": {
      "text/html": [
       "<div>\n",
       "<style scoped>\n",
       "    .dataframe tbody tr th:only-of-type {\n",
       "        vertical-align: middle;\n",
       "    }\n",
       "\n",
       "    .dataframe tbody tr th {\n",
       "        vertical-align: top;\n",
       "    }\n",
       "\n",
       "    .dataframe thead th {\n",
       "        text-align: right;\n",
       "    }\n",
       "</style>\n",
       "<table border=\"1\" class=\"dataframe\">\n",
       "  <thead>\n",
       "    <tr style=\"text-align: right;\">\n",
       "      <th></th>\n",
       "      <th>senIdx</th>\n",
       "      <th>sentence</th>\n",
       "      <th>sper</th>\n",
       "      <th>bper</th>\n",
       "      <th>iper</th>\n",
       "      <th>eper</th>\n",
       "      <th>label</th>\n",
       "      <th>name_label</th>\n",
       "    </tr>\n",
       "  </thead>\n",
       "  <tbody>\n",
       "    <tr>\n",
       "      <th>0</th>\n",
       "      <td>5.0</td>\n",
       "      <td>[رئيس, ال, مجلس،, عباس, أبو, اسكندر, متفائلا, ...</td>\n",
       "      <td>0.0</td>\n",
       "      <td>1.0</td>\n",
       "      <td>1.0</td>\n",
       "      <td>1.0</td>\n",
       "      <td>[B-TTL, I-TTL, E-TTL, B-PER, I-PER, E-PER, O, ...</td>\n",
       "      <td>[O, O, O, O, O, O, O, O, O, O, O, O, O, O, O, ...</td>\n",
       "    </tr>\n",
       "    <tr>\n",
       "      <th>1</th>\n",
       "      <td>6.0</td>\n",
       "      <td>[يقف, عباس, ابو, عواد, ،, رئيس, ال, مجلس, ال, ...</td>\n",
       "      <td>0.0</td>\n",
       "      <td>1.0</td>\n",
       "      <td>1.0</td>\n",
       "      <td>1.0</td>\n",
       "      <td>[O, B-PER, I-PER, E-PER, O, B-TTL, I-TTL|B-ORG...</td>\n",
       "      <td>[O, O, O, O, O, O, O, O, O, O, O, O, O, O, O, ...</td>\n",
       "    </tr>\n",
       "    <tr>\n",
       "      <th>2</th>\n",
       "      <td>8.0</td>\n",
       "      <td>[و, بشر, عواد, ال, عائلة, أن, ه, ب, الاضافة, ا...</td>\n",
       "      <td>1.0</td>\n",
       "      <td>0.0</td>\n",
       "      <td>0.0</td>\n",
       "      <td>0.0</td>\n",
       "      <td>[O, O, S-PER, O, O, O, O, O, O, O, O, O, O, O,...</td>\n",
       "      <td>[O, O, O, O, O, O, O, O, O, O, O, O, O, O, O, ...</td>\n",
       "    </tr>\n",
       "    <tr>\n",
       "      <th>3</th>\n",
       "      <td>10.0</td>\n",
       "      <td>[هذه, اديك, زيارة, هي, جزء, من, حملة, ', ال, ج...</td>\n",
       "      <td>0.0</td>\n",
       "      <td>1.0</td>\n",
       "      <td>0.0</td>\n",
       "      <td>1.0</td>\n",
       "      <td>[O, O, O, O, O, O, O, O, B-MISC, I-MISC, I-MIS...</td>\n",
       "      <td>[F, L, O, O, O, O, F, O, O, O, O, O, O, F, O, ...</td>\n",
       "    </tr>\n",
       "    <tr>\n",
       "      <th>4</th>\n",
       "      <td>29.0</td>\n",
       "      <td>[\", عندما, بدأ, ال, إغلاق, توقف, ال, ناس, عن, ...</td>\n",
       "      <td>0.0</td>\n",
       "      <td>1.0</td>\n",
       "      <td>0.0</td>\n",
       "      <td>1.0</td>\n",
       "      <td>[O, O, O, O, O, O, O, O, O, O, O, O, O, O, O, ...</td>\n",
       "      <td>[O, F, O, O, O, O, O, O, O, O, O, O, O, O, O, ...</td>\n",
       "    </tr>\n",
       "    <tr>\n",
       "      <th>...</th>\n",
       "      <td>...</td>\n",
       "      <td>...</td>\n",
       "      <td>...</td>\n",
       "      <td>...</td>\n",
       "      <td>...</td>\n",
       "      <td>...</td>\n",
       "      <td>...</td>\n",
       "      <td>...</td>\n",
       "    </tr>\n",
       "    <tr>\n",
       "      <th>5126</th>\n",
       "      <td>30710.0</td>\n",
       "      <td>[تم, توثيق, ال, حادث،, و, حظي, ب, استنكارات, و...</td>\n",
       "      <td>0.0</td>\n",
       "      <td>1.0</td>\n",
       "      <td>0.0</td>\n",
       "      <td>1.0</td>\n",
       "      <td>[O, O, O, O, O, O, O, O, O, O, O, O, O, O, O, ...</td>\n",
       "      <td>[F, O, O, O, O, F, O, O, O, O, O, F, O, O, O, ...</td>\n",
       "    </tr>\n",
       "    <tr>\n",
       "      <th>5127</th>\n",
       "      <td>30714.0</td>\n",
       "      <td>[شارك, في, ال, زيارة, أيضا, نائب, ال, قائد, ال...</td>\n",
       "      <td>0.0</td>\n",
       "      <td>1.0</td>\n",
       "      <td>1.0</td>\n",
       "      <td>1.0</td>\n",
       "      <td>[O, O, O, O, O, B-TTL, B-TTL|I-TTL, I-TTL|I-TT...</td>\n",
       "      <td>[O, O, O, O, O, F, O, O, O, O, O, O, O, O, O, ...</td>\n",
       "    </tr>\n",
       "    <tr>\n",
       "      <th>5128</th>\n",
       "      <td>30743.0</td>\n",
       "      <td>[أورلي, سيلفينجر, ،, ال, مدير, ال, عام, \", بطي...</td>\n",
       "      <td>0.0</td>\n",
       "      <td>1.0</td>\n",
       "      <td>0.0</td>\n",
       "      <td>1.0</td>\n",
       "      <td>[B-PER, E-PER, O, B-TTL, I-TTL, I-TTL, E-TTL, ...</td>\n",
       "      <td>[O, O, O, O, O, O, O, O, O, O, O, O, O, O, O, ...</td>\n",
       "    </tr>\n",
       "    <tr>\n",
       "      <th>5129</th>\n",
       "      <td>30766.0</td>\n",
       "      <td>[في, رياض, ال, أطفال, يستخدم, \", بطيرم, \", قصة...</td>\n",
       "      <td>1.0</td>\n",
       "      <td>0.0</td>\n",
       "      <td>0.0</td>\n",
       "      <td>0.0</td>\n",
       "      <td>[O, O, O, O, O, O, S-ORG, O, O, O, O, O, S-PER...</td>\n",
       "      <td>[O, O, O, O, O, O, O, O, F, F, O, O, O, O, O, ...</td>\n",
       "    </tr>\n",
       "    <tr>\n",
       "      <th>5130</th>\n",
       "      <td>30768.0</td>\n",
       "      <td>[أورلي, سيلفينجر, ،, ال, مدير, ال, تنفيذي, ل, ...</td>\n",
       "      <td>0.0</td>\n",
       "      <td>1.0</td>\n",
       "      <td>0.0</td>\n",
       "      <td>1.0</td>\n",
       "      <td>[B-PER, E-PER, O, B-TTL, I-TTL, I-TTL, E-TTL, ...</td>\n",
       "      <td>[O, O, O, O, O, O, O, O, O, O, O, O, O, O, O, ...</td>\n",
       "    </tr>\n",
       "  </tbody>\n",
       "</table>\n",
       "<p>5131 rows × 8 columns</p>\n",
       "</div>"
      ],
      "text/plain": [
       "       senIdx                                           sentence  sper  bper  \\\n",
       "0         5.0  [رئيس, ال, مجلس،, عباس, أبو, اسكندر, متفائلا, ...   0.0   1.0   \n",
       "1         6.0  [يقف, عباس, ابو, عواد, ،, رئيس, ال, مجلس, ال, ...   0.0   1.0   \n",
       "2         8.0  [و, بشر, عواد, ال, عائلة, أن, ه, ب, الاضافة, ا...   1.0   0.0   \n",
       "3        10.0  [هذه, اديك, زيارة, هي, جزء, من, حملة, ', ال, ج...   0.0   1.0   \n",
       "4        29.0  [\", عندما, بدأ, ال, إغلاق, توقف, ال, ناس, عن, ...   0.0   1.0   \n",
       "...       ...                                                ...   ...   ...   \n",
       "5126  30710.0  [تم, توثيق, ال, حادث،, و, حظي, ب, استنكارات, و...   0.0   1.0   \n",
       "5127  30714.0  [شارك, في, ال, زيارة, أيضا, نائب, ال, قائد, ال...   0.0   1.0   \n",
       "5128  30743.0  [أورلي, سيلفينجر, ،, ال, مدير, ال, عام, \", بطي...   0.0   1.0   \n",
       "5129  30766.0  [في, رياض, ال, أطفال, يستخدم, \", بطيرم, \", قصة...   1.0   0.0   \n",
       "5130  30768.0  [أورلي, سيلفينجر, ،, ال, مدير, ال, تنفيذي, ل, ...   0.0   1.0   \n",
       "\n",
       "      iper  eper                                              label  \\\n",
       "0      1.0   1.0  [B-TTL, I-TTL, E-TTL, B-PER, I-PER, E-PER, O, ...   \n",
       "1      1.0   1.0  [O, B-PER, I-PER, E-PER, O, B-TTL, I-TTL|B-ORG...   \n",
       "2      0.0   0.0  [O, O, S-PER, O, O, O, O, O, O, O, O, O, O, O,...   \n",
       "3      0.0   1.0  [O, O, O, O, O, O, O, O, B-MISC, I-MISC, I-MIS...   \n",
       "4      0.0   1.0  [O, O, O, O, O, O, O, O, O, O, O, O, O, O, O, ...   \n",
       "...    ...   ...                                                ...   \n",
       "5126   0.0   1.0  [O, O, O, O, O, O, O, O, O, O, O, O, O, O, O, ...   \n",
       "5127   1.0   1.0  [O, O, O, O, O, B-TTL, B-TTL|I-TTL, I-TTL|I-TT...   \n",
       "5128   0.0   1.0  [B-PER, E-PER, O, B-TTL, I-TTL, I-TTL, E-TTL, ...   \n",
       "5129   0.0   0.0  [O, O, O, O, O, O, S-ORG, O, O, O, O, O, S-PER...   \n",
       "5130   0.0   1.0  [B-PER, E-PER, O, B-TTL, I-TTL, I-TTL, E-TTL, ...   \n",
       "\n",
       "                                             name_label  \n",
       "0     [O, O, O, O, O, O, O, O, O, O, O, O, O, O, O, ...  \n",
       "1     [O, O, O, O, O, O, O, O, O, O, O, O, O, O, O, ...  \n",
       "2     [O, O, O, O, O, O, O, O, O, O, O, O, O, O, O, ...  \n",
       "3     [F, L, O, O, O, O, F, O, O, O, O, O, O, F, O, ...  \n",
       "4     [O, F, O, O, O, O, O, O, O, O, O, O, O, O, O, ...  \n",
       "...                                                 ...  \n",
       "5126  [F, O, O, O, O, F, O, O, O, O, O, F, O, O, O, ...  \n",
       "5127  [O, O, O, O, O, F, O, O, O, O, O, O, O, O, O, ...  \n",
       "5128  [O, O, O, O, O, O, O, O, O, O, O, O, O, O, O, ...  \n",
       "5129  [O, O, O, O, O, O, O, O, F, F, O, O, O, O, O, ...  \n",
       "5130  [O, O, O, O, O, O, O, O, O, O, O, O, O, O, O, ...  \n",
       "\n",
       "[5131 rows x 8 columns]"
      ]
     },
     "execution_count": 67,
     "metadata": {},
     "output_type": "execute_result"
    }
   ],
   "source": [
    "def labeling(l,lUpdFirstName,lUpdLastName):\n",
    "    return ['F' if x in lUpdFirstName else 'L' if x in lUpdLastName else 'O' for x in l]\n",
    "\n",
    "dfPersonSentences['name_label'] = dfPersonSentences.sentence.apply(labeling,args=(lUpdFirstName,lUpdLastName,))\n",
    "dfPersonSentences"
   ]
  },
  {
   "cell_type": "code",
   "execution_count": null,
   "id": "495b64c2",
   "metadata": {},
   "outputs": [],
   "source": []
  }
 ],
 "metadata": {
  "kernelspec": {
   "display_name": "Python 3",
   "language": "python",
   "name": "python3"
  },
  "language_info": {
   "codemirror_mode": {
    "name": "ipython",
    "version": 3
   },
   "file_extension": ".py",
   "mimetype": "text/x-python",
   "name": "python",
   "nbconvert_exporter": "python",
   "pygments_lexer": "ipython3",
   "version": "3.8.8"
  }
 },
 "nbformat": 4,
 "nbformat_minor": 5
}
