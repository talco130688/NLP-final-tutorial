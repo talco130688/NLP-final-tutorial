{
 "cells": [
  {
   "cell_type": "code",
   "execution_count": null,
   "id": "1c0a887f",
   "metadata": {},
   "outputs": [],
   "source": [
    "import pandas as pd\n",
    "import numpy  as np\n",
    "from names_dataset import NameDataset, NameWrapper"
   ]
  },
  {
   "cell_type": "code",
   "execution_count": null,
   "id": "f3fb6f61",
   "metadata": {},
   "outputs": [],
   "source": [
    "dfNames = pd.read_csv('Arabic_names.csv')\n",
    "dfNames.shape"
   ]
  },
  {
   "cell_type": "code",
   "execution_count": null,
   "id": "e974ad25",
   "metadata": {},
   "outputs": [],
   "source": [
    "# https://github.com/philipperemy/name-dataset\n",
    "nd = NameDataset()"
   ]
  },
  {
   "cell_type": "code",
   "execution_count": null,
   "id": "31211329",
   "metadata": {},
   "outputs": [],
   "source": [
    "dfAlpha = pd.read_csv('alpha.csv')\n",
    "dfAlpha.head(3)"
   ]
  },
  {
   "cell_type": "code",
   "execution_count": null,
   "id": "971dcc27",
   "metadata": {},
   "outputs": [],
   "source": [
    "LArabCountries = ['Afghanistan','Algeria','Bahrain','Chad','Egypt','Indonesia','Iran (Islamic Republic of)','Iraq',\\\n",
    "                  'Jordan','Kuwait','Lebanon','Morocco','Oman','Pakistan','Palestine, State of','Qatar','Saudi Arabia',\\\n",
    "                  'Syrian Arab Republic','Tunisia','Turkey','Turkmenistan','United Arab Emirates (the)','Yemen']\n",
    "\n",
    "lCode          = dfAlpha[dfAlpha.Country.isin(LArabCountries)]['alpha-2'].tolist()\n",
    "len(lCode)"
   ]
  },
  {
   "cell_type": "code",
   "execution_count": null,
   "id": "957d7348",
   "metadata": {},
   "outputs": [],
   "source": [
    "lMaleNames   = []\n",
    "lFemaleNames = []\n",
    "for code in lCode:\n",
    "    try:\n",
    "        dicNames      = nd.get_top_names(n=10000, country_alpha2=code)\n",
    "        lMaleByCode   = dicNames[code]['M']\n",
    "        lFemaleByCode = dicNames[code]['F']\n",
    "        lMaleNames    = lMaleNames   + lMaleByCode\n",
    "        lFemaleNames  = lFemaleNames + lFemaleByCode\n",
    "        print(f'code={code} male names:{len(lMaleByCode)} female names:{len(lFemaleByCode)}')\n",
    "    except: \n",
    "        print(f'code={code} male names:0000 female names:0000')\n",
    "lMaleNames   = list(set(lMaleNames))\n",
    "lMaleNames.sort()\n",
    "lFemaleNames = list(set(lFemaleNames))\n",
    "lFemaleNames.sort()\n",
    "len(lMaleNames),len(lFemaleNames)"
   ]
  },
  {
   "cell_type": "code",
   "execution_count": null,
   "id": "e69f5b1f",
   "metadata": {},
   "outputs": [],
   "source": [
    "lMaleNames   = lMaleNames  [68772:]\n",
    "lFemaleNames = lFemaleNames[37718:]\n",
    "len(lMaleNames),len(lFemaleNames)"
   ]
  },
  {
   "cell_type": "code",
   "execution_count": null,
   "id": "44870376",
   "metadata": {},
   "outputs": [],
   "source": [
    "def SeperateNames(lNames):\n",
    "    serNames          = pd.Series(lNames)\n",
    "    serNames          = serNames.apply(lambda name: name.split(\" \"))\n",
    "    dfNames           = pd.DataFrame(serNames, columns=['Name'])\n",
    "    dfNames['length'] = serNames.apply(lambda lSplitName: len(lSplitName))\n",
    "    dfNames['First' ] = dfNames.Name.apply(lambda lSplitName: lSplitName[ 0])\n",
    "    dfNames['Middle'] = dfNames.Name.apply(lambda lSplitName: lSplitName[ 1] if len(lSplitName)>2 else '-')\n",
    "    dfNames['Last'  ] = dfNames.Name.apply(lambda lSplitName: lSplitName[-1] if len(lSplitName)>1 else '-')\n",
    "    return dfNames"
   ]
  },
  {
   "cell_type": "code",
   "execution_count": null,
   "id": "7eee4337",
   "metadata": {},
   "outputs": [],
   "source": [
    "dfMaleNames   = SeperateNames(lMaleNames)\n",
    "dfFemaleNames = SeperateNames(lFemaleNames)\n",
    "dfMaleNames.shape, dfFemaleNames.shape"
   ]
  },
  {
   "cell_type": "code",
   "execution_count": null,
   "id": "5d00a95f",
   "metadata": {},
   "outputs": [],
   "source": [
    "lFirstNameMales   = dfMaleNames  [dfMaleNames.First != '-']['First'].tolist() \n",
    "lFirstNameFemales = dfFemaleNames[dfMaleNames.First != '-']['First'].tolist() \n",
    "lFirstName        = list(set(lFirstNameMales + lFirstNameFemales))\n",
    "\n",
    "lLastNameMales   = dfMaleNames[dfMaleNames.Last != '-']['Last'].tolist() \n",
    "lLastNameFemales = dfFemaleNames[dfMaleNames.Last != '-']['Last'].tolist() \n",
    "lLastName        = list(set(lLastNameMales + lLastNameFemales))\n",
    "\n",
    "len(lFirstName), len(lLastName)"
   ]
  },
  {
   "cell_type": "code",
   "execution_count": null,
   "id": "cc289ae9",
   "metadata": {},
   "outputs": [],
   "source": [
    "np.save('list_names.npy', (lFirstName,lLastName))"
   ]
  },
  {
   "cell_type": "code",
   "execution_count": null,
   "id": "2f1581c7",
   "metadata": {},
   "outputs": [],
   "source": [
    "lFirstName,lLastName = np.load('list_names.npy', allow_pickle=True)\n",
    "len(lFirstName), len(lLastName)"
   ]
  }
 ],
 "metadata": {
  "kernelspec": {
   "display_name": "Python 3",
   "language": "python",
   "name": "python3"
  },
  "language_info": {
   "codemirror_mode": {
    "name": "ipython",
    "version": 3
   },
   "file_extension": ".py",
   "mimetype": "text/x-python",
   "name": "python",
   "nbconvert_exporter": "python",
   "pygments_lexer": "ipython3",
   "version": "3.8.8"
  }
 },
 "nbformat": 4,
 "nbformat_minor": 5
}
